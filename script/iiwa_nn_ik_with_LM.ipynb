{
 "cells": [
  {
   "cell_type": "code",
   "execution_count": 3,
   "id": "030f7a99",
   "metadata": {},
   "outputs": [],
   "source": [
    "%config PICompleter.greedy=True #TAB键补全代码"
   ]
  },
  {
   "cell_type": "code",
   "execution_count": 14,
   "id": "317ea23d",
   "metadata": {},
   "outputs": [],
   "source": [
    "## import library\n",
    "import os,sys\n",
    "import numpy as np\n",
    "import tensorflow as tf\n",
    "from tensorflow import keras\n",
    "import pandas as pd\n",
    "import ast\n",
    "from livelossplot import PlotLossesKeras"
   ]
  },
  {
   "cell_type": "code",
   "execution_count": 6,
   "id": "74ee9ba2",
   "metadata": {},
   "outputs": [],
   "source": [
    "#### 1)加载数据\n",
    "df = pd.read_csv('./iiwa_dataset.csv')\n",
    "train_set = df.head(6000)\n",
    "test_set = df.tail(df.shape[0]-6000)\n",
    "\n",
    "train_datas = [];train_labels = []\n",
    "for rows in train_set.itertuples():\n",
    "    _labels = ast.literal_eval(rows.Joint)\n",
    "    _datas = ast.literal_eval(rows.Pose)\n",
    "    train_datas.append(np.array(_datas).reshape(21,))\n",
    "    train_labels.append(np.array(_labels).reshape(6,))\n",
    "    \n",
    "train_datas = np.array(train_datas)\n",
    "train_labels = np.array(train_labels)\n",
    "\n",
    "test_datas=[];test_labels=[]\n",
    "for rows in test_set.itertuples():\n",
    "    _labels = ast.literal_eval(rows.Joint)\n",
    "    _datas = ast.literal_eval(rows.Pose)\n",
    "    test_datas.append(np.array(_datas).reshape(21,))\n",
    "    test_labels.append(np.array(_labels).reshape(6,))\n",
    "\n",
    "test_datas = np.array(test_datas)\n",
    "test_labels = np.array(test_labels)"
   ]
  },
  {
   "cell_type": "code",
   "execution_count": 7,
   "id": "141a1295",
   "metadata": {},
   "outputs": [
    {
     "name": "stdout",
     "output_type": "stream",
     "text": [
      "(6000, 21)\n",
      "[ 0.06940018  0.05065947  0.21813851 -0.09134055  0.07713289  0.35963126\n",
      " -0.17634429  0.13377536  0.49195697 -0.18701058  0.26070565  0.46763395\n",
      " -0.35311275  0.17358343  0.41526836 -0.4128781  -0.00727802  0.37909341\n",
      " -0.47932624 -0.05744847  0.3782185 ]\n"
     ]
    }
   ],
   "source": [
    "print((train_datas.shape))\n",
    "print((train_datas[0]))"
   ]
  },
  {
   "cell_type": "code",
   "execution_count": 8,
   "id": "3eac046a",
   "metadata": {},
   "outputs": [
    {
     "name": "stdout",
     "output_type": "stream",
     "text": [
      "[ 0.05131843  0.03746048  0.16130398 -0.06754238  0.05703643  0.26593173\n",
      " -0.13039896  0.09892108  0.36378086 -0.13828622  0.19278053  0.34579505\n",
      " -0.26111158  0.12835742  0.30707296 -0.30530546 -0.00538178  0.28032315\n",
      " -0.35444098 -0.04248066  0.27967619]\n"
     ]
    }
   ],
   "source": [
    "### 对数据进行归一化\n",
    "train_datas_norm = tf.keras.utils.normalize(train_datas,axis=1,order=2)\n",
    "test_datas_norm = tf.keras.utils.normalize(test_datas,axis=1,order=2)\n",
    "print(train_datas_norm[0])"
   ]
  },
  {
   "cell_type": "code",
   "execution_count": 37,
   "id": "f3dcf9a2",
   "metadata": {},
   "outputs": [
    {
     "name": "stdout",
     "output_type": "stream",
     "text": [
      "Model: \"sequential_3\"\n",
      "_________________________________________________________________\n",
      "Layer (type)                 Output Shape              Param #   \n",
      "=================================================================\n",
      "flatten_3 (Flatten)          (None, 21)                0         \n",
      "_________________________________________________________________\n",
      "dense_12 (Dense)             (None, 100)               2200      \n",
      "_________________________________________________________________\n",
      "dense_13 (Dense)             (None, 100)               10100     \n",
      "_________________________________________________________________\n",
      "dense_14 (Dense)             (None, 100)               10100     \n",
      "_________________________________________________________________\n",
      "dense_15 (Dense)             (None, 100)               10100     \n",
      "_________________________________________________________________\n",
      "dense_16 (Dense)             (None, 6)                 606       \n",
      "=================================================================\n",
      "Total params: 33,106\n",
      "Trainable params: 33,106\n",
      "Non-trainable params: 0\n",
      "_________________________________________________________________\n"
     ]
    }
   ],
   "source": [
    "### 2)搭建网络\n",
    "model = keras.Sequential([\n",
    "    keras.layers.Flatten(input_shape=(1,21)),\n",
    "    keras.layers.Dense(100,activation='tanh'),\n",
    "    keras.layers.Dense(100,activation='tanh'),\n",
    "    keras.layers.Dense(100,activation='tanh'),\n",
    "    keras.layers.Dense(100,activation='tanh'),\n",
    "    keras.layers.Dense(6,activation=None)\n",
    "])\n",
    "model.summary()"
   ]
  },
  {
   "cell_type": "code",
   "execution_count": 38,
   "id": "216cc90c",
   "metadata": {},
   "outputs": [
    {
     "name": "stdout",
     "output_type": "stream",
     "text": [
      "Epoch 1/10\n",
      "WARNING:tensorflow:Model was constructed with shape (None, 1, 21) for input KerasTensor(type_spec=TensorSpec(shape=(None, 1, 21), dtype=tf.float32, name='flatten_3_input'), name='flatten_3_input', description=\"created by layer 'flatten_3_input'\"), but it was called on an input with incompatible shape (None, 21).\n",
      "WARNING:tensorflow:Model was constructed with shape (None, 1, 21) for input KerasTensor(type_spec=TensorSpec(shape=(None, 1, 21), dtype=tf.float32, name='flatten_3_input'), name='flatten_3_input', description=\"created by layer 'flatten_3_input'\"), but it was called on an input with incompatible shape (None, 21).\n",
      "188/188 [==============================] - 1s 1ms/step - loss: 2.1738\n",
      "Epoch 2/10\n",
      "188/188 [==============================] - 0s 2ms/step - loss: 2.1497\n",
      "Epoch 3/10\n",
      "188/188 [==============================] - 0s 2ms/step - loss: 2.1486\n",
      "Epoch 4/10\n",
      "188/188 [==============================] - 0s 1ms/step - loss: 2.1493\n",
      "Epoch 5/10\n",
      "188/188 [==============================] - 0s 2ms/step - loss: 2.1525\n",
      "Epoch 6/10\n",
      "188/188 [==============================] - 0s 2ms/step - loss: 2.1538\n",
      "Epoch 7/10\n",
      "188/188 [==============================] - 0s 2ms/step - loss: 2.1520\n",
      "Epoch 8/10\n",
      "188/188 [==============================] - 0s 2ms/step - loss: 2.1543\n",
      "Epoch 9/10\n",
      "188/188 [==============================] - 0s 2ms/step - loss: 2.1466\n",
      "Epoch 10/10\n",
      "188/188 [==============================] - 0s 1ms/step - loss: 2.1498\n"
     ]
    },
    {
     "data": {
      "text/plain": [
       "<keras.callbacks.History at 0x7fc2d1e7bc50>"
      ]
     },
     "execution_count": 38,
     "metadata": {},
     "output_type": "execute_result"
    }
   ],
   "source": [
    "model.compile(\n",
    "    optimizer=tf.keras.optimizers.Adam(learning_rate=0.01),\n",
    "    loss=tf.keras.losses.MeanSquaredError())\n",
    "model.fit(train_datas_norm, train_labels, epochs=10)"
   ]
  },
  {
   "cell_type": "code",
   "execution_count": 42,
   "id": "e7636229",
   "metadata": {},
   "outputs": [
    {
     "ename": "FileNotFoundError",
     "evalue": "[Errno 2] No such file or directory: 'tf-levenberg-marquardt'",
     "output_type": "error",
     "traceback": [
      "\u001b[0;31m---------------------------------------------------------------------------\u001b[0m",
      "\u001b[0;31mFileNotFoundError\u001b[0m                         Traceback (most recent call last)",
      "\u001b[0;32m<ipython-input-42-3ab1ae53d6b7>\u001b[0m in \u001b[0;36m<module>\u001b[0;34m\u001b[0m\n\u001b[1;32m      2\u001b[0m \u001b[0mos\u001b[0m\u001b[0;34m.\u001b[0m\u001b[0mchdir\u001b[0m\u001b[0;34m(\u001b[0m\u001b[0;34m\".\"\u001b[0m\u001b[0;34m)\u001b[0m\u001b[0;34m\u001b[0m\u001b[0;34m\u001b[0m\u001b[0m\n\u001b[1;32m      3\u001b[0m \u001b[0mlm_dir\u001b[0m \u001b[0;34m=\u001b[0m \u001b[0;34m\"tf-levenberg-marquardt\"\u001b[0m\u001b[0;34m\u001b[0m\u001b[0;34m\u001b[0m\u001b[0m\n\u001b[0;32m----> 4\u001b[0;31m \u001b[0mos\u001b[0m\u001b[0;34m.\u001b[0m\u001b[0mchdir\u001b[0m\u001b[0;34m(\u001b[0m\u001b[0mlm_dir\u001b[0m\u001b[0;34m)\u001b[0m\u001b[0;34m\u001b[0m\u001b[0;34m\u001b[0m\u001b[0m\n\u001b[0m\u001b[1;32m      5\u001b[0m \u001b[0;32mimport\u001b[0m \u001b[0mlevenberg_marquardt\u001b[0m \u001b[0;32mas\u001b[0m \u001b[0mlm\u001b[0m\u001b[0;34m\u001b[0m\u001b[0;34m\u001b[0m\u001b[0m\n",
      "\u001b[0;31mFileNotFoundError\u001b[0m: [Errno 2] No such file or directory: 'tf-levenberg-marquardt'"
     ]
    }
   ],
   "source": [
    "### 尝试使用LM算法\n",
    "os.chdir(\".\")\n",
    "lm_dir = \"tf-levenberg-marquardt\"\n",
    "os.chdir(lm_dir)\n",
    "import levenberg_marquardt as lm"
   ]
  },
  {
   "cell_type": "code",
   "execution_count": 45,
   "id": "8d55b5de",
   "metadata": {},
   "outputs": [
    {
     "name": "stdout",
     "output_type": "stream",
     "text": [
      "Epoch 1/100\n",
      "WARNING:tensorflow:Model was constructed with shape (None, 1, 21) for input KerasTensor(type_spec=TensorSpec(shape=(None, 1, 21), dtype=tf.float32, name='flatten_3_input'), name='flatten_3_input', description=\"created by layer 'flatten_3_input'\"), but it was called on an input with incompatible shape (None, 21).\n",
      "WARNING:tensorflow:Model was constructed with shape (None, 1, 21) for input KerasTensor(type_spec=TensorSpec(shape=(None, 1, 21), dtype=tf.float32, name='flatten_3_input'), name='flatten_3_input', description=\"created by layer 'flatten_3_input'\"), but it was called on an input with incompatible shape (32, 21).\n",
      "187/188 [============================>.] - ETA: 0s - damping_factor: 0.1000 - attempts: 2.0000 - loss: 2.1221WARNING:tensorflow:Model was constructed with shape (None, 1, 21) for input KerasTensor(type_spec=TensorSpec(shape=(None, 1, 21), dtype=tf.float32, name='flatten_3_input'), name='flatten_3_input', description=\"created by layer 'flatten_3_input'\"), but it was called on an input with incompatible shape (16, 21).\n",
      "188/188 [==============================] - 17s 86ms/step - damping_factor: 0.0100 - attempts: 1.0000 - loss: 2.1221\n",
      "Epoch 2/100\n",
      "188/188 [==============================] - 15s 80ms/step - damping_factor: 0.0010 - attempts: 1.0000 - loss: 2.1105\n",
      "Epoch 3/100\n",
      "188/188 [==============================] - 16s 86ms/step - damping_factor: 0.0100 - attempts: 1.0000 - loss: 2.0964\n",
      "Epoch 4/100\n",
      "188/188 [==============================] - 16s 85ms/step - damping_factor: 1.0000e-05 - attempts: 2.0000 - loss: 2.0886 0s - damping_factor: 1.0000e-05 - attempts: 2.0000 - los\n",
      "Epoch 5/100\n",
      "188/188 [==============================] - 16s 83ms/step - damping_factor: 1.0000e-04 - attempts: 3.0000 - loss: 2.0909\n",
      "Epoch 6/100\n",
      "188/188 [==============================] - 15s 81ms/step - damping_factor: 1.0000e-04 - attempts: 2.0000 - loss: 2.1048\n",
      "Epoch 7/100\n",
      "188/188 [==============================] - 15s 80ms/step - damping_factor: 1.0000e-04 - attempts: 2.0000 - loss: 2.0866\n",
      "Epoch 8/100\n",
      "188/188 [==============================] - 15s 81ms/step - damping_factor: 1.0000e-04 - attempts: 2.0000 - loss: 2.0887\n",
      "Epoch 9/100\n",
      "188/188 [==============================] - 15s 80ms/step - damping_factor: 1.0000e-04 - attempts: 2.0000 - loss: 2.0833\n",
      "Epoch 10/100\n",
      "188/188 [==============================] - 15s 80ms/step - damping_factor: 1.0000e-04 - attempts: 2.0000 - loss: 2.0962\n",
      "Epoch 11/100\n",
      "188/188 [==============================] - 15s 80ms/step - damping_factor: 1.0000e-04 - attempts: 2.0000 - loss: 2.0884\n",
      "Epoch 12/100\n",
      "188/188 [==============================] - 15s 80ms/step - damping_factor: 1.0000e-04 - attempts: 2.0000 - loss: 2.0864\n",
      "Epoch 13/100\n",
      "188/188 [==============================] - 15s 80ms/step - damping_factor: 1.0000e-04 - attempts: 2.0000 - loss: 2.0809\n",
      "Epoch 14/100\n",
      "188/188 [==============================] - 15s 80ms/step - damping_factor: 1.0000e-04 - attempts: 2.0000 - loss: 2.1074\n",
      "Epoch 15/100\n",
      "188/188 [==============================] - 15s 82ms/step - damping_factor: 1.0000e-04 - attempts: 2.0000 - loss: 2.1081\n",
      "Epoch 16/100\n",
      "188/188 [==============================] - 15s 78ms/step - damping_factor: 1.0000e-04 - attempts: 2.0000 - loss: 2.1028\n",
      "Epoch 17/100\n",
      "188/188 [==============================] - 15s 79ms/step - damping_factor: 1.0000e-05 - attempts: 2.0000 - loss: 2.0950\n",
      "Epoch 18/100\n",
      "188/188 [==============================] - 15s 80ms/step - damping_factor: 1.0000e-04 - attempts: 2.0000 - loss: 2.1039\n",
      "Epoch 19/100\n",
      "188/188 [==============================] - 14s 77ms/step - damping_factor: 1.0000e-04 - attempts: 2.0000 - loss: 2.1024\n",
      "Epoch 20/100\n",
      "188/188 [==============================] - 15s 80ms/step - damping_factor: 1.0000e-04 - attempts: 2.0000 - loss: 2.1078\n",
      "Epoch 21/100\n",
      "188/188 [==============================] - 16s 85ms/step - damping_factor: 1.0000e-04 - attempts: 2.0000 - loss: 2.0967\n",
      "Epoch 22/100\n",
      "188/188 [==============================] - 16s 84ms/step - damping_factor: 1.0000e-04 - attempts: 3.0000 - loss: 2.0936\n",
      "Epoch 23/100\n",
      "188/188 [==============================] - 16s 83ms/step - damping_factor: 1.0000e-04 - attempts: 2.0000 - loss: 2.0949\n",
      "Epoch 24/100\n",
      "188/188 [==============================] - 17s 89ms/step - damping_factor: 1.0000e-04 - attempts: 2.0000 - loss: 2.1053\n",
      "Epoch 25/100\n",
      "188/188 [==============================] - 16s 87ms/step - damping_factor: 1.0000e-04 - attempts: 2.0000 - loss: 2.0984 1s - damping_factor: 1.0000e-04 - attempts: 2.000\n",
      "Epoch 26/100\n",
      "188/188 [==============================] - 15s 81ms/step - damping_factor: 1.0000e-04 - attempts: 2.0000 - loss: 2.0943\n",
      "Epoch 27/100\n",
      "188/188 [==============================] - 15s 77ms/step - damping_factor: 1.0000e-05 - attempts: 1.0000 - loss: 2.0946\n",
      "Epoch 28/100\n",
      "188/188 [==============================] - 15s 80ms/step - damping_factor: 1.0000e-04 - attempts: 2.0000 - loss: 2.0940\n",
      "Epoch 29/100\n",
      "188/188 [==============================] - 17s 89ms/step - damping_factor: 0.0010 - attempts: 3.0000 - loss: 2.0933\n",
      "Epoch 30/100\n",
      "188/188 [==============================] - 17s 89ms/step - damping_factor: 1.0000e-04 - attempts: 2.0000 - loss: 2.0983 2s - damping_factor: 1.0000e-05 - \n",
      "Epoch 31/100\n",
      "188/188 [==============================] - 15s 82ms/step - damping_factor: 1.0000e-04 - attempts: 2.0000 - loss: 2.0929\n",
      "Epoch 32/100\n",
      "188/188 [==============================] - 15s 82ms/step - damping_factor: 1.0000e-04 - attempts: 2.0000 - loss: 2.0932\n",
      "Epoch 33/100\n",
      "188/188 [==============================] - 15s 81ms/step - damping_factor: 1.0000e-04 - attempts: 2.0000 - loss: 2.1052\n",
      "Epoch 34/100\n",
      "188/188 [==============================] - 16s 83ms/step - damping_factor: 1.0000e-04 - attempts: 3.0000 - loss: 2.1030\n",
      "Epoch 35/100\n",
      "188/188 [==============================] - 15s 82ms/step - damping_factor: 1.0000e-04 - attempts: 2.0000 - loss: 2.0948\n",
      "Epoch 36/100\n",
      "188/188 [==============================] - 17s 88ms/step - damping_factor: 1.0000e-04 - attempts: 2.0000 - loss: 2.0956\n",
      "Epoch 37/100\n",
      "188/188 [==============================] - 17s 90ms/step - damping_factor: 1.0000e-05 - attempts: 1.0000 - loss: 2.0998\n",
      "Epoch 38/100\n",
      "188/188 [==============================] - 15s 81ms/step - damping_factor: 1.0000e-04 - attempts: 2.0000 - loss: 2.0902\n",
      "Epoch 39/100\n",
      "188/188 [==============================] - 16s 85ms/step - damping_factor: 1.0000e-05 - attempts: 1.0000 - loss: 2.0969\n",
      "Epoch 40/100\n",
      "188/188 [==============================] - 16s 83ms/step - damping_factor: 1.0000e-04 - attempts: 2.0000 - loss: 2.0956\n",
      "Epoch 41/100\n",
      "188/188 [==============================] - ETA: 0s - damping_factor: 1.0000e-04 - attempts: 3.0000 - loss: 2.100 - 15s 81ms/step - damping_factor: 1.0000e-04 - attempts: 2.0000 - loss: 2.0989\n",
      "Epoch 42/100\n",
      "188/188 [==============================] - 15s 81ms/step - damping_factor: 1.0000e-04 - attempts: 3.0000 - loss: 2.1097\n",
      "Epoch 43/100\n",
      "188/188 [==============================] - 15s 80ms/step - damping_factor: 1.0000e-04 - attempts: 2.0000 - loss: 2.1027\n",
      "Epoch 44/100\n",
      "188/188 [==============================] - 15s 81ms/step - damping_factor: 1.0000e-05 - attempts: 1.0000 - loss: 2.0919\n",
      "Epoch 45/100\n",
      "188/188 [==============================] - 15s 82ms/step - damping_factor: 1.0000e-05 - attempts: 1.0000 - loss: 2.0936\n",
      "Epoch 46/100\n",
      "188/188 [==============================] - 15s 82ms/step - damping_factor: 1.0000e-05 - attempts: 1.0000 - loss: 2.1030\n",
      "Epoch 47/100\n",
      "188/188 [==============================] - 16s 86ms/step - damping_factor: 1.0000e-04 - attempts: 3.0000 - loss: 2.0993\n",
      "Epoch 48/100\n",
      "188/188 [==============================] - 16s 87ms/step - damping_factor: 1.0000e-04 - attempts: 2.0000 - loss: 2.0916\n",
      "Epoch 49/100\n",
      "188/188 [==============================] - 15s 79ms/step - damping_factor: 1.0000e-04 - attempts: 2.0000 - loss: 2.0947\n",
      "Epoch 50/100\n",
      "188/188 [==============================] - 15s 78ms/step - damping_factor: 1.0000e-04 - attempts: 2.0000 - loss: 2.0992\n",
      "Epoch 51/100\n",
      "188/188 [==============================] - 15s 79ms/step - damping_factor: 1.0000e-04 - attempts: 2.0000 - loss: 2.0942\n",
      "Epoch 52/100\n",
      "188/188 [==============================] - 16s 83ms/step - damping_factor: 1.0000e-04 - attempts: 2.0000 - loss: 2.0967\n",
      "Epoch 53/100\n"
     ]
    },
    {
     "name": "stdout",
     "output_type": "stream",
     "text": [
      "188/188 [==============================] - ETA: 0s - damping_factor: 1.0000e-04 - attempts: 2.0000 - loss: 2.103 - 15s 81ms/step - damping_factor: 1.0000e-04 - attempts: 2.0000 - loss: 2.1032\n",
      "Epoch 54/100\n",
      "188/188 [==============================] - 15s 77ms/step - damping_factor: 1.0000e-04 - attempts: 2.0000 - loss: 2.1004\n",
      "Epoch 55/100\n",
      "188/188 [==============================] - 15s 80ms/step - damping_factor: 1.0000e-05 - attempts: 1.0000 - loss: 2.1083 6 - ETA: 1s - damping_factor: 1.0000e-04 - attempts: 2.0000 \n",
      "Epoch 56/100\n",
      "188/188 [==============================] - 15s 78ms/step - damping_factor: 1.0000e-04 - attempts: 2.0000 - loss: 2.1103\n",
      "Epoch 57/100\n",
      "188/188 [==============================] - 15s 80ms/step - damping_factor: 1.0000e-04 - attempts: 3.0000 - loss: 2.0908\n",
      "Epoch 58/100\n",
      "188/188 [==============================] - 15s 80ms/step - damping_factor: 1.0000e-04 - attempts: 2.0000 - loss: 2.1019\n",
      "Epoch 59/100\n",
      "188/188 [==============================] - 16s 84ms/step - damping_factor: 1.0000e-04 - attempts: 2.0000 - loss: 2.0928\n",
      "Epoch 60/100\n",
      "188/188 [==============================] - 16s 87ms/step - damping_factor: 1.0000e-04 - attempts: 2.0000 - loss: 2.0931\n",
      "Epoch 61/100\n",
      "188/188 [==============================] - 15s 79ms/step - damping_factor: 1.0000e-04 - attempts: 2.0000 - loss: 2.1010\n",
      "Epoch 62/100\n",
      "188/188 [==============================] - 15s 78ms/step - damping_factor: 1.0000e-04 - attempts: 2.0000 - loss: 2.0852\n",
      "Epoch 63/100\n",
      "188/188 [==============================] - 15s 79ms/step - damping_factor: 1.0000e-04 - attempts: 2.0000 - loss: 2.0946\n",
      "Epoch 64/100\n",
      "188/188 [==============================] - 15s 78ms/step - damping_factor: 1.0000e-04 - attempts: 1.0000 - loss: 2.0988\n",
      "Epoch 65/100\n",
      "188/188 [==============================] - 15s 78ms/step - damping_factor: 1.0000e-04 - attempts: 3.0000 - loss: 2.0973 0s - damping_factor: 1.0000e-04 - attempts: 3.0000 - loss: 2.097\n",
      "Epoch 66/100\n",
      "188/188 [==============================] - 15s 78ms/step - damping_factor: 1.0000e-04 - attempts: 3.0000 - loss: 2.1021\n",
      "Epoch 67/100\n",
      "188/188 [==============================] - 15s 78ms/step - damping_factor: 1.0000e-05 - attempts: 1.0000 - loss: 2.0917\n",
      "Epoch 68/100\n",
      "188/188 [==============================] - 15s 77ms/step - damping_factor: 1.0000e-04 - attempts: 2.0000 - loss: 2.0946\n",
      "Epoch 69/100\n",
      "188/188 [==============================] - 15s 77ms/step - damping_factor: 1.0000e-04 - attempts: 3.0000 - loss: 2.0947\n",
      "Epoch 70/100\n",
      "188/188 [==============================] - 15s 77ms/step - damping_factor: 1.0000e-04 - attempts: 2.0000 - loss: 2.1103\n",
      "Epoch 71/100\n",
      "188/188 [==============================] - 15s 77ms/step - damping_factor: 1.0000e-05 - attempts: 1.0000 - loss: 2.0989\n",
      "Epoch 72/100\n",
      "188/188 [==============================] - 15s 77ms/step - damping_factor: 1.0000e-05 - attempts: 2.0000 - loss: 2.1039\n",
      "Epoch 73/100\n",
      "188/188 [==============================] - 15s 77ms/step - damping_factor: 0.0010 - attempts: 3.0000 - loss: 2.0997\n",
      "Epoch 74/100\n",
      "188/188 [==============================] - 14s 77ms/step - damping_factor: 1.0000e-04 - attempts: 2.0000 - loss: 2.0967\n",
      "Epoch 75/100\n",
      "188/188 [==============================] - 14s 77ms/step - damping_factor: 1.0000e-04 - attempts: 2.0000 - loss: 2.1096\n",
      "Epoch 76/100\n",
      "188/188 [==============================] - 15s 77ms/step - damping_factor: 1.0000e-05 - attempts: 2.0000 - loss: 2.0962\n",
      "Epoch 77/100\n",
      "188/188 [==============================] - 15s 78ms/step - damping_factor: 1.0000e-04 - attempts: 3.0000 - loss: 2.0977\n",
      "Epoch 78/100\n",
      "188/188 [==============================] - 15s 79ms/step - damping_factor: 1.0000e-04 - attempts: 3.0000 - loss: 2.0955\n",
      "Epoch 79/100\n",
      "188/188 [==============================] - 15s 79ms/step - damping_factor: 1.0000e-04 - attempts: 2.0000 - loss: 2.0965 0s - damping_factor: 1.0000e-04 - attempts: 2.0000 - los\n",
      "Epoch 80/100\n",
      "188/188 [==============================] - 16s 87ms/step - damping_factor: 1.0000e-04 - attempts: 2.0000 - loss: 2.0972\n",
      "Epoch 81/100\n",
      "188/188 [==============================] - 16s 85ms/step - damping_factor: 1.0000e-04 - attempts: 2.0000 - loss: 2.0989\n",
      "Epoch 82/100\n",
      "188/188 [==============================] - 15s 77ms/step - damping_factor: 1.0000e-04 - attempts: 2.0000 - loss: 2.0984\n",
      "Epoch 83/100\n",
      "188/188 [==============================] - 14s 77ms/step - damping_factor: 1.0000e-04 - attempts: 3.0000 - loss: 2.0944\n",
      "Epoch 84/100\n",
      "188/188 [==============================] - 14s 77ms/step - damping_factor: 1.0000e-04 - attempts: 2.0000 - loss: 2.0942\n",
      "Epoch 85/100\n",
      "188/188 [==============================] - 14s 77ms/step - damping_factor: 1.0000e-04 - attempts: 2.0000 - loss: 2.0971\n",
      "Epoch 86/100\n",
      "188/188 [==============================] - 14s 77ms/step - damping_factor: 1.0000e-04 - attempts: 2.0000 - loss: 2.0925\n",
      "Epoch 87/100\n",
      "188/188 [==============================] - 14s 77ms/step - damping_factor: 1.0000e-05 - attempts: 1.0000 - loss: 2.1055\n",
      "Epoch 88/100\n",
      "188/188 [==============================] - 15s 79ms/step - damping_factor: 1.0000e-05 - attempts: 2.0000 - loss: 2.1052\n",
      "Epoch 89/100\n",
      "188/188 [==============================] - 16s 88ms/step - damping_factor: 1.0000e-04 - attempts: 2.0000 - loss: 2.0984\n",
      "Epoch 90/100\n",
      "188/188 [==============================] - 15s 82ms/step - damping_factor: 1.0000e-04 - attempts: 3.0000 - loss: 2.0937\n",
      "Epoch 91/100\n",
      "188/188 [==============================] - 16s 84ms/step - damping_factor: 1.0000e-05 - attempts: 2.0000 - loss: 2.0916 0s - damping_factor: 1.0000e-05 - attempts: 1.0000 - loss: 2.091\n",
      "Epoch 92/100\n",
      "188/188 [==============================] - 15s 77ms/step - damping_factor: 1.0000e-05 - attempts: 2.0000 - loss: 2.1049\n",
      "Epoch 93/100\n",
      "188/188 [==============================] - 14s 77ms/step - damping_factor: 1.0000e-04 - attempts: 2.0000 - loss: 2.1003\n",
      "Epoch 94/100\n",
      "188/188 [==============================] - 15s 79ms/step - damping_factor: 1.0000e-04 - attempts: 3.0000 - loss: 2.0975\n",
      "Epoch 95/100\n",
      "188/188 [==============================] - 15s 79ms/step - damping_factor: 1.0000e-04 - attempts: 2.0000 - loss: 2.0975\n",
      "Epoch 96/100\n",
      "188/188 [==============================] - 14s 77ms/step - damping_factor: 1.0000e-04 - attempts: 3.0000 - loss: 2.0942\n",
      "Epoch 97/100\n",
      "188/188 [==============================] - 15s 77ms/step - damping_factor: 1.0000e-04 - attempts: 2.0000 - loss: 2.0979\n",
      "Epoch 98/100\n",
      "188/188 [==============================] - 14s 77ms/step - damping_factor: 1.0000e-04 - attempts: 2.0000 - loss: 2.0939\n",
      "Epoch 99/100\n",
      "188/188 [==============================] - 14s 77ms/step - damping_factor: 1.0000e-04 - attempts: 2.0000 - loss: 2.1004\n",
      "Epoch 100/100\n",
      "188/188 [==============================] - 14s 77ms/step - damping_factor: 1.0000e-04 - attempts: 2.0000 - loss: 2.0927\n"
     ]
    },
    {
     "data": {
      "text/plain": [
       "<keras.callbacks.History at 0x7fc2d25b39b0>"
      ]
     },
     "execution_count": 45,
     "metadata": {},
     "output_type": "execute_result"
    }
   ],
   "source": [
    "model_wrapper = lm.ModelWrapper(tf.keras.models.clone_model(model))\n",
    "model_wrapper.compile(\n",
    "    optimizer=tf.keras.optimizers.SGD(learning_rate=1),\n",
    "    loss=lm.MeanSquaredError())\n",
    "model_wrapper.fit(train_datas_norm, train_labels, epochs=100)"
   ]
  },
  {
   "cell_type": "code",
   "execution_count": null,
   "id": "2d4a5592",
   "metadata": {},
   "outputs": [],
   "source": []
  }
 ],
 "metadata": {
  "kernelspec": {
   "display_name": "Python 3",
   "language": "python",
   "name": "python3"
  },
  "language_info": {
   "codemirror_mode": {
    "name": "ipython",
    "version": 3
   },
   "file_extension": ".py",
   "mimetype": "text/x-python",
   "name": "python",
   "nbconvert_exporter": "python",
   "pygments_lexer": "ipython3",
   "version": "3.6.9"
  }
 },
 "nbformat": 4,
 "nbformat_minor": 5
}
