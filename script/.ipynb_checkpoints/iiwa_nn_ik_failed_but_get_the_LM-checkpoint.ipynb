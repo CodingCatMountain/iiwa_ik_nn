{
 "cells": [
  {
   "cell_type": "code",
   "execution_count": 1,
   "id": "decd7a4c",
   "metadata": {},
   "outputs": [],
   "source": [
    "%config IPCompleter.greedy=True ###TAB键补全代码"
   ]
  },
  {
   "cell_type": "code",
   "execution_count": 2,
   "id": "0116aa0c",
   "metadata": {},
   "outputs": [],
   "source": [
    "import os,sys\n",
    "import numpy as np\n",
    "import tensorflow as tf\n",
    "from tensorflow import keras\n",
    "import pandas as pd\n",
    "import ast"
   ]
  },
  {
   "cell_type": "code",
   "execution_count": 42,
   "id": "d75e014f",
   "metadata": {},
   "outputs": [],
   "source": [
    "### 1)加载数据\n",
    "df = pd.read_csv('./iiwa_dataset.csv')\n",
    "train_set = df.head(6000)\n",
    "test_set = df.tail(df.shape[0]-6000)  \n",
    "train_datas = [];train_labels = []\n",
    "for rows in train_set.itertuples():\n",
    "    _labels = ast.literal_eval(rows.Joint)\n",
    "    _datas = ast.literal_eval(rows.Pose)\n",
    "    train_datas.append(np.array(_datas).reshape(21,))\n",
    "    train_labels.append(np.array(_labels).reshape(7,))\n",
    "    \n",
    "train_datas = np.array(train_datas)\n",
    "train_labels = np.array(train_labels)\n",
    "\n",
    "test_datas=[];test_labels=[]\n",
    "for rows in test_set.itertuples():\n",
    "    _labels = ast.literal_eval(rows.Joint)\n",
    "    _datas = ast.literal_eval(rows.Pose)\n",
    "    test_datas.append(np.array(_datas).reshape(21,))\n",
    "    test_labels.append(np.array(_labels).reshape(7,))\n",
    "\n",
    "test_datas = np.array(test_datas)\n",
    "test_labels = np.array(test_labels)"
   ]
  },
  {
   "cell_type": "code",
   "execution_count": 45,
   "id": "1fa20829",
   "metadata": {},
   "outputs": [
    {
     "name": "stdout",
     "output_type": "stream",
     "text": [
      "<class 'numpy.ndarray'>\n"
     ]
    }
   ],
   "source": [
    "print(type(train_labels))"
   ]
  },
  {
   "cell_type": "code",
   "execution_count": 46,
   "id": "ba522bca",
   "metadata": {},
   "outputs": [],
   "source": [
    "### 对数据进行归一化\n",
    "train_datas_norm = tf.keras.utils.normalize(train_datas,axis=1,order=2)\n",
    "test_datas_norm = tf.keras.utils.normalize(test_datas,axis=1,order=2)"
   ]
  },
  {
   "cell_type": "code",
   "execution_count": 51,
   "id": "e9f60466",
   "metadata": {},
   "outputs": [
    {
     "name": "stdout",
     "output_type": "stream",
     "text": [
      "Model: \"sequential_5\"\n",
      "_________________________________________________________________\n",
      "Layer (type)                 Output Shape              Param #   \n",
      "=================================================================\n",
      "flatten_5 (Flatten)          (None, 21)                0         \n",
      "_________________________________________________________________\n",
      "dense_30 (Dense)             (None, 100)               2200      \n",
      "_________________________________________________________________\n",
      "dense_31 (Dense)             (None, 100)               10100     \n",
      "_________________________________________________________________\n",
      "dense_32 (Dense)             (None, 100)               10100     \n",
      "_________________________________________________________________\n",
      "dense_33 (Dense)             (None, 100)               10100     \n",
      "_________________________________________________________________\n",
      "dense_34 (Dense)             (None, 100)               10100     \n",
      "_________________________________________________________________\n",
      "dense_35 (Dense)             (None, 100)               10100     \n",
      "_________________________________________________________________\n",
      "dense_36 (Dense)             (None, 100)               10100     \n",
      "_________________________________________________________________\n",
      "dense_37 (Dense)             (None, 100)               10100     \n",
      "_________________________________________________________________\n",
      "dense_38 (Dense)             (None, 100)               10100     \n",
      "_________________________________________________________________\n",
      "dense_39 (Dense)             (None, 7)                 707       \n",
      "=================================================================\n",
      "Total params: 83,707\n",
      "Trainable params: 83,707\n",
      "Non-trainable params: 0\n",
      "_________________________________________________________________\n"
     ]
    }
   ],
   "source": [
    "### 2)搭建网络\n",
    "model = keras.Sequential([\n",
    "            keras.layers.Flatten(input_shape=(1,21)),\n",
    "            keras.layers.Dense(1000,activation='tanh'),\n",
    "            keras.layers.Dense(1000,activation='tanh'),\n",
    "            keras.layers.Dense(1000,activation='tanh'),\n",
    "            keras.layers.Dense(1000,activation='tanh'),\n",
    "            keras.layers.Dense(1000,activation='tanh'),\n",
    "            keras.layers.Dense(1000,activation='tanh'),\n",
    "            keras.layers.Dense(1000,activation='tanh'),\n",
    "            keras.layers.Dense(1000,activation='tanh'),\n",
    "            keras.layers.Dense(1000,activation='tanh'),\n",
    "            keras.layers.Dense(7,activation=None)\n",
    "        ])\n",
    "model.summary()"
   ]
  },
  {
   "cell_type": "code",
   "execution_count": 52,
   "id": "8ff118b9",
   "metadata": {},
   "outputs": [],
   "source": [
    "def rmsle(y_true,y_predict):\n",
    "    msle=tf.keras.losses.MeanSquaredLogarithmicError()\n",
    "    return keras.backend.sqrt(msle(y_true,y_predict))"
   ]
  },
  {
   "cell_type": "code",
   "execution_count": 54,
   "id": "fff43a62",
   "metadata": {},
   "outputs": [
    {
     "name": "stdout",
     "output_type": "stream",
     "text": [
      "Epoch 1/20\n",
      "WARNING:tensorflow:Model was constructed with shape (None, 1, 21) for input KerasTensor(type_spec=TensorSpec(shape=(None, 1, 21), dtype=tf.float32, name='flatten_5_input'), name='flatten_5_input', description=\"created by layer 'flatten_5_input'\"), but it was called on an input with incompatible shape (None, 21).\n",
      "WARNING:tensorflow:Model was constructed with shape (None, 1, 21) for input KerasTensor(type_spec=TensorSpec(shape=(None, 1, 21), dtype=tf.float32, name='flatten_5_input'), name='flatten_5_input', description=\"created by layer 'flatten_5_input'\"), but it was called on an input with incompatible shape (None, 21).\n",
      "188/188 [==============================] - 1s 3ms/step - loss: 0.4551 - accuracy: 0.2077\n",
      "Epoch 2/20\n",
      "188/188 [==============================] - 0s 3ms/step - loss: 0.4547 - accuracy: 0.1980\n",
      "Epoch 3/20\n",
      "188/188 [==============================] - 0s 3ms/step - loss: 0.4548 - accuracy: 0.2077\n",
      "Epoch 4/20\n",
      "188/188 [==============================] - 0s 2ms/step - loss: 0.4548 - accuracy: 0.2007\n",
      "Epoch 5/20\n",
      "188/188 [==============================] - 0s 2ms/step - loss: 0.4547 - accuracy: 0.2045\n",
      "Epoch 6/20\n",
      "188/188 [==============================] - 0s 2ms/step - loss: 0.4545 - accuracy: 0.1948\n",
      "Epoch 7/20\n",
      "188/188 [==============================] - 0s 2ms/step - loss: 0.4544 - accuracy: 0.2090\n",
      "Epoch 8/20\n",
      "188/188 [==============================] - 0s 3ms/step - loss: 0.4543 - accuracy: 0.2017\n",
      "Epoch 9/20\n",
      "188/188 [==============================] - 0s 2ms/step - loss: 0.4546 - accuracy: 0.2032\n",
      "Epoch 10/20\n",
      "188/188 [==============================] - 0s 2ms/step - loss: 0.4541 - accuracy: 0.2067\n",
      "Epoch 11/20\n",
      "188/188 [==============================] - 0s 2ms/step - loss: 0.4542 - accuracy: 0.2122\n",
      "Epoch 12/20\n",
      "188/188 [==============================] - 0s 3ms/step - loss: 0.4544 - accuracy: 0.2065\n",
      "Epoch 13/20\n",
      "188/188 [==============================] - 0s 2ms/step - loss: 0.4541 - accuracy: 0.1960\n",
      "Epoch 14/20\n",
      "188/188 [==============================] - 0s 3ms/step - loss: 0.4540 - accuracy: 0.2040\n",
      "Epoch 15/20\n",
      "188/188 [==============================] - 0s 2ms/step - loss: 0.4542 - accuracy: 0.1980\n",
      "Epoch 16/20\n",
      "188/188 [==============================] - 0s 2ms/step - loss: 0.4540 - accuracy: 0.1998\n",
      "Epoch 17/20\n",
      "188/188 [==============================] - 0s 2ms/step - loss: 0.4538 - accuracy: 0.2032\n",
      "Epoch 18/20\n",
      "188/188 [==============================] - 0s 3ms/step - loss: 0.4541 - accuracy: 0.1988\n",
      "Epoch 19/20\n",
      "188/188 [==============================] - 0s 2ms/step - loss: 0.4537 - accuracy: 0.2043\n",
      "Epoch 20/20\n",
      "188/188 [==============================] - 0s 3ms/step - loss: 0.4540 - accuracy: 0.2062\n"
     ]
    },
    {
     "data": {
      "text/plain": [
       "<keras.callbacks.History at 0x7fd5d1dede80>"
      ]
     },
     "execution_count": 54,
     "metadata": {},
     "output_type": "execute_result"
    }
   ],
   "source": [
    "### 训练网络\n",
    "model.compile(optimizer=\"adam\",loss=rmsle,metrics=['accuracy'])\n",
    "model.fit(train_datas_norm,train_labels,epochs=20)"
   ]
  },
  {
   "cell_type": "code",
   "execution_count": null,
   "id": "2379f856",
   "metadata": {},
   "outputs": [],
   "source": []
  }
 ],
 "metadata": {
  "kernelspec": {
   "display_name": "Python 3",
   "language": "python",
   "name": "python3"
  },
  "language_info": {
   "codemirror_mode": {
    "name": "ipython",
    "version": 3
   },
   "file_extension": ".py",
   "mimetype": "text/x-python",
   "name": "python",
   "nbconvert_exporter": "python",
   "pygments_lexer": "ipython3",
   "version": "3.6.9"
  }
 },
 "nbformat": 4,
 "nbformat_minor": 5
}
